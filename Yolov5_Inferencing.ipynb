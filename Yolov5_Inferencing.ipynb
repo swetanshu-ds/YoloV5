{
  "nbformat": 4,
  "nbformat_minor": 0,
  "metadata": {
    "colab": {
      "name": "Yolov5_Inferencing.ipynb",
      "private_outputs": true,
      "provenance": []
    },
    "kernelspec": {
      "name": "python3",
      "display_name": "Python 3"
    },
    "accelerator": "GPU"
  },
  "cells": [
    {
      "cell_type": "markdown",
      "metadata": {
        "id": "bPqkOqKvaerU"
      },
      "source": [
        "# Inferencing with YoloV5"
      ]
    },
    {
      "cell_type": "markdown",
      "metadata": {
        "id": "XXu9rSyea-pI"
      },
      "source": [
        "## Cloning Github Repository"
      ]
    },
    {
      "cell_type": "code",
      "metadata": {
        "id": "9OrEi7NiAqUr"
      },
      "source": [
        "!git clone https://github.com/ultralytics/yolov5\n",
        "%cd yolov5\n",
        "!git reset --hard 68211f72c99915a15855f7b99bf5d93f5631330f"
      ],
      "execution_count": null,
      "outputs": []
    },
    {
      "cell_type": "markdown",
      "metadata": {
        "id": "CI-bAdLUas5X"
      },
      "source": [
        "## # Installling dependencies"
      ]
    },
    {
      "cell_type": "code",
      "metadata": {
        "id": "VZFLotARal5u"
      },
      "source": [
        "!pip install -r requirements.txt\n",
        "import torch"
      ],
      "execution_count": null,
      "outputs": []
    },
    {
      "cell_type": "markdown",
      "metadata": {
        "id": "8tV6LTXdbN6N"
      },
      "source": [
        "## Dependency Checks "
      ]
    },
    {
      "cell_type": "code",
      "metadata": {
        "id": "p9TXq-9tA1G1"
      },
      "source": [
        "from IPython.display import Image, clear_output  # to display images\n",
        "from utils.google_utils import gdrive_download  # to download models/datasets\n",
        "\n",
        "# clear_output()\n",
        "print('Setup complete. Using torch %s %s' % (torch.__version__, torch.cuda.get_device_properties(0) if torch.cuda.is_available() else 'CPU'))"
      ],
      "execution_count": null,
      "outputs": []
    },
    {
      "cell_type": "markdown",
      "metadata": {
        "id": "Kf4ZXifzbVXw"
      },
      "source": [
        "## Creating a folder for test images"
      ]
    },
    {
      "cell_type": "code",
      "metadata": {
        "id": "bp233bc2Csvx"
      },
      "source": [
        "%cd /content/\n",
        "!mkdir -p test/images\n"
      ],
      "execution_count": null,
      "outputs": []
    },
    {
      "cell_type": "markdown",
      "metadata": {
        "id": "LLxKYNOMbb6R"
      },
      "source": [
        "## Inferencing with YoloV5"
      ]
    },
    {
      "cell_type": "code",
      "metadata": {
        "id": "1KJPT6ytA1Da"
      },
      "source": [
        "%cd /content/yolov5/\n",
        "!python detect.py --img 416 --conf 0.4 --source ../test/images"
      ],
      "execution_count": null,
      "outputs": []
    },
    {
      "cell_type": "code",
      "metadata": {
        "id": "NqFClJRYA0_M"
      },
      "source": [
        ""
      ],
      "execution_count": null,
      "outputs": []
    },
    {
      "cell_type": "code",
      "metadata": {
        "id": "yxXbpwosA07g"
      },
      "source": [
        ""
      ],
      "execution_count": null,
      "outputs": []
    }
  ]
}